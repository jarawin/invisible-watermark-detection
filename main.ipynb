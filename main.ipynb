{
  "nbformat": 4,
  "nbformat_minor": 0,
  "metadata": {
    "colab": {
      "provenance": [],
      "toc_visible": true,
      "include_colab_link": true
    },
    "kernelspec": {
      "name": "python3",
      "display_name": "Python 3"
    },
    "language_info": {
      "name": "python"
    }
  },
  "cells": [
    
    {
      "cell_type": "code",
      "execution_count": null,
      "metadata": {
        "id": "6djipgjy14FX"
      },
      "outputs": [],
      "source": [
        "import numpy as np\n",
        "from tensorflow.keras.datasets.mnist import load_data"
      ]
    },
    {
      "cell_type": "code",
      "source": [
        "(x_train, y_train), (x_test, y_test) = load_data()#load dataset"
      ],
      "metadata": {
        "id": "lK8Ymuly2ncz",
        "colab": {
          "base_uri": "https://localhost:8080/"
        },
        "outputId": "a2607f06-150e-4024-c247-b762ac02c2a3"
      },
      "execution_count": null,
      "outputs": [
        {
          "output_type": "stream",
          "name": "stdout",
          "text": [
            "Downloading data from https://storage.googleapis.com/tensorflow/tf-keras-datasets/mnist.npz\n",
            "11490434/11490434 [==============================] - 0s 0us/step\n"
          ]
        }
      ]
    },
    {
      "cell_type": "code",
      "source": [
        "print(x_train.shape)\n",
        "print(x_test.shape)"
      ],
      "metadata": {
        "id": "Ik5-p93P2_W2",
        "colab": {
          "base_uri": "https://localhost:8080/"
        },
        "outputId": "e62773a4-e574-498f-ed11-f568142976ee"
      },
      "execution_count": null,
      "outputs": [
        {
          "output_type": "stream",
          "name": "stdout",
          "text": [
            "(60000, 28, 28)\n",
            "(10000, 28, 28)\n"
          ]
        }
      ]
    },
    {
      "cell_type": "code",
      "source": [
        "print(y_train.shape)\n",
        "print(y_test.shape)"
      ],
      "metadata": {
        "id": "V0Eg7t763WtO",
        "colab": {
          "base_uri": "https://localhost:8080/"
        },
        "outputId": "6121c99b-0a2b-46ef-9cba-b2da15dc307f"
      },
      "execution_count": null,
      "outputs": [
        {
          "output_type": "stream",
          "name": "stdout",
          "text": [
            "(60000,)\n",
            "(10000,)\n"
          ]
        }
      ]
    },
    {
      "cell_type": "markdown",
      "source": [],
      "metadata": {
        "id": "SB4nvb5FyZbz"
      }
    },
    {
      "cell_type": "code",
      "source": [
        "index = 0\n",
        "x_train[index]"
      ],
      "metadata": {
        "id": "rZLAlSeX3uAz",
        "colab": {
          "base_uri": "https://localhost:8080/"
        },
        "outputId": "a2f6b666-4727-42d9-9e3b-cf264b84209c"
      },
      "execution_count": null,
      "outputs": [
        {
          "output_type": "execute_result",
          "data": {
            "text/plain": [
              "array([[  0,   0,   0,   0,   0,   0,   0,   0,   0,   0,   0,   0,   0,\n",
              "          0,   0,   0,   0,   0,   0,   0,   0,   0,   0,   0,   0,   0,\n",
              "          0,   0],\n",
              "       [  0,   0,   0,   0,   0,   0,   0,   0,   0,   0,   0,   0,   0,\n",
              "          0,   0,   0,   0,   0,   0,   0,   0,   0,   0,   0,   0,   0,\n",
              "          0,   0],\n",
              "       [  0,   0,   0,   0,   0,   0,   0,   0,   0,   0,   0,   0,   0,\n",
              "          0,   0,   0,   0,   0,   0,   0,   0,   0,   0,   0,   0,   0,\n",
              "          0,   0],\n",
              "       [  0,   0,   0,   0,   0,   0,   0,   0,   0,   0,   0,   0,   0,\n",
              "          0,   0,   0,   0,   0,   0,   0,   0,   0,   0,   0,   0,   0,\n",
              "          0,   0],\n",
              "       [  0,   0,   0,   0,   0,   0,   0,   0,   0,   0,   0,   0,   0,\n",
              "          0,   0,   0,   0,   0,   0,   0,   0,   0,   0,   0,   0,   0,\n",
              "          0,   0],\n",
              "       [  0,   0,   0,   0,   0,   0,   0,   0,   0,   0,   0,   0,   3,\n",
              "         18,  18,  18, 126, 136, 175,  26, 166, 255, 247, 127,   0,   0,\n",
              "          0,   0],\n",
              "       [  0,   0,   0,   0,   0,   0,   0,   0,  30,  36,  94, 154, 170,\n",
              "        253, 253, 253, 253, 253, 225, 172, 253, 242, 195,  64,   0,   0,\n",
              "          0,   0],\n",
              "       [  0,   0,   0,   0,   0,   0,   0,  49, 238, 253, 253, 253, 253,\n",
              "        253, 253, 253, 253, 251,  93,  82,  82,  56,  39,   0,   0,   0,\n",
              "          0,   0],\n",
              "       [  0,   0,   0,   0,   0,   0,   0,  18, 219, 253, 253, 253, 253,\n",
              "        253, 198, 182, 247, 241,   0,   0,   0,   0,   0,   0,   0,   0,\n",
              "          0,   0],\n",
              "       [  0,   0,   0,   0,   0,   0,   0,   0,  80, 156, 107, 253, 253,\n",
              "        205,  11,   0,  43, 154,   0,   0,   0,   0,   0,   0,   0,   0,\n",
              "          0,   0],\n",
              "       [  0,   0,   0,   0,   0,   0,   0,   0,   0,  14,   1, 154, 253,\n",
              "         90,   0,   0,   0,   0,   0,   0,   0,   0,   0,   0,   0,   0,\n",
              "          0,   0],\n",
              "       [  0,   0,   0,   0,   0,   0,   0,   0,   0,   0,   0, 139, 253,\n",
              "        190,   2,   0,   0,   0,   0,   0,   0,   0,   0,   0,   0,   0,\n",
              "          0,   0],\n",
              "       [  0,   0,   0,   0,   0,   0,   0,   0,   0,   0,   0,  11, 190,\n",
              "        253,  70,   0,   0,   0,   0,   0,   0,   0,   0,   0,   0,   0,\n",
              "          0,   0],\n",
              "       [  0,   0,   0,   0,   0,   0,   0,   0,   0,   0,   0,   0,  35,\n",
              "        241, 225, 160, 108,   1,   0,   0,   0,   0,   0,   0,   0,   0,\n",
              "          0,   0],\n",
              "       [  0,   0,   0,   0,   0,   0,   0,   0,   0,   0,   0,   0,   0,\n",
              "         81, 240, 253, 253, 119,  25,   0,   0,   0,   0,   0,   0,   0,\n",
              "          0,   0],\n",
              "       [  0,   0,   0,   0,   0,   0,   0,   0,   0,   0,   0,   0,   0,\n",
              "          0,  45, 186, 253, 253, 150,  27,   0,   0,   0,   0,   0,   0,\n",
              "          0,   0],\n",
              "       [  0,   0,   0,   0,   0,   0,   0,   0,   0,   0,   0,   0,   0,\n",
              "          0,   0,  16,  93, 252, 253, 187,   0,   0,   0,   0,   0,   0,\n",
              "          0,   0],\n",
              "       [  0,   0,   0,   0,   0,   0,   0,   0,   0,   0,   0,   0,   0,\n",
              "          0,   0,   0,   0, 249, 253, 249,  64,   0,   0,   0,   0,   0,\n",
              "          0,   0],\n",
              "       [  0,   0,   0,   0,   0,   0,   0,   0,   0,   0,   0,   0,   0,\n",
              "          0,  46, 130, 183, 253, 253, 207,   2,   0,   0,   0,   0,   0,\n",
              "          0,   0],\n",
              "       [  0,   0,   0,   0,   0,   0,   0,   0,   0,   0,   0,   0,  39,\n",
              "        148, 229, 253, 253, 253, 250, 182,   0,   0,   0,   0,   0,   0,\n",
              "          0,   0],\n",
              "       [  0,   0,   0,   0,   0,   0,   0,   0,   0,   0,  24, 114, 221,\n",
              "        253, 253, 253, 253, 201,  78,   0,   0,   0,   0,   0,   0,   0,\n",
              "          0,   0],\n",
              "       [  0,   0,   0,   0,   0,   0,   0,   0,  23,  66, 213, 253, 253,\n",
              "        253, 253, 198,  81,   2,   0,   0,   0,   0,   0,   0,   0,   0,\n",
              "          0,   0],\n",
              "       [  0,   0,   0,   0,   0,   0,  18, 171, 219, 253, 253, 253, 253,\n",
              "        195,  80,   9,   0,   0,   0,   0,   0,   0,   0,   0,   0,   0,\n",
              "          0,   0],\n",
              "       [  0,   0,   0,   0,  55, 172, 226, 253, 253, 253, 253, 244, 133,\n",
              "         11,   0,   0,   0,   0,   0,   0,   0,   0,   0,   0,   0,   0,\n",
              "          0,   0],\n",
              "       [  0,   0,   0,   0, 136, 253, 253, 253, 212, 135, 132,  16,   0,\n",
              "          0,   0,   0,   0,   0,   0,   0,   0,   0,   0,   0,   0,   0,\n",
              "          0,   0],\n",
              "       [  0,   0,   0,   0,   0,   0,   0,   0,   0,   0,   0,   0,   0,\n",
              "          0,   0,   0,   0,   0,   0,   0,   0,   0,   0,   0,   0,   0,\n",
              "          0,   0],\n",
              "       [  0,   0,   0,   0,   0,   0,   0,   0,   0,   0,   0,   0,   0,\n",
              "          0,   0,   0,   0,   0,   0,   0,   0,   0,   0,   0,   0,   0,\n",
              "          0,   0],\n",
              "       [  0,   0,   0,   0,   0,   0,   0,   0,   0,   0,   0,   0,   0,\n",
              "          0,   0,   0,   0,   0,   0,   0,   0,   0,   0,   0,   0,   0,\n",
              "          0,   0]], dtype=uint8)"
            ]
          },
          "metadata": {},
          "execution_count": 5
        }
      ]
    },
    {
      "cell_type": "code",
      "source": [
        "x_train[index, :, 7:20]"
      ],
      "metadata": {
        "id": "p1ZWNMdy37Zk",
        "colab": {
          "base_uri": "https://localhost:8080/"
        },
        "outputId": "fb7707a5-f836-4a22-e0cd-ab39cb183a5e"
      },
      "execution_count": null,
      "outputs": [
        {
          "output_type": "execute_result",
          "data": {
            "text/plain": [
              "array([[  0,   0,   0,   0,   0,   0,   0,   0,   0,   0,   0,   0,   0],\n",
              "       [  0,   0,   0,   0,   0,   0,   0,   0,   0,   0,   0,   0,   0],\n",
              "       [  0,   0,   0,   0,   0,   0,   0,   0,   0,   0,   0,   0,   0],\n",
              "       [  0,   0,   0,   0,   0,   0,   0,   0,   0,   0,   0,   0,   0],\n",
              "       [  0,   0,   0,   0,   0,   0,   0,   0,   0,   0,   0,   0,   0],\n",
              "       [  0,   0,   0,   0,   0,   3,  18,  18,  18, 126, 136, 175,  26],\n",
              "       [  0,  30,  36,  94, 154, 170, 253, 253, 253, 253, 253, 225, 172],\n",
              "       [ 49, 238, 253, 253, 253, 253, 253, 253, 253, 253, 251,  93,  82],\n",
              "       [ 18, 219, 253, 253, 253, 253, 253, 198, 182, 247, 241,   0,   0],\n",
              "       [  0,  80, 156, 107, 253, 253, 205,  11,   0,  43, 154,   0,   0],\n",
              "       [  0,   0,  14,   1, 154, 253,  90,   0,   0,   0,   0,   0,   0],\n",
              "       [  0,   0,   0,   0, 139, 253, 190,   2,   0,   0,   0,   0,   0],\n",
              "       [  0,   0,   0,   0,  11, 190, 253,  70,   0,   0,   0,   0,   0],\n",
              "       [  0,   0,   0,   0,   0,  35, 241, 225, 160, 108,   1,   0,   0],\n",
              "       [  0,   0,   0,   0,   0,   0,  81, 240, 253, 253, 119,  25,   0],\n",
              "       [  0,   0,   0,   0,   0,   0,   0,  45, 186, 253, 253, 150,  27],\n",
              "       [  0,   0,   0,   0,   0,   0,   0,   0,  16,  93, 252, 253, 187],\n",
              "       [  0,   0,   0,   0,   0,   0,   0,   0,   0,   0, 249, 253, 249],\n",
              "       [  0,   0,   0,   0,   0,   0,   0,  46, 130, 183, 253, 253, 207],\n",
              "       [  0,   0,   0,   0,   0,  39, 148, 229, 253, 253, 253, 250, 182],\n",
              "       [  0,   0,   0,  24, 114, 221, 253, 253, 253, 253, 201,  78,   0],\n",
              "       [  0,  23,  66, 213, 253, 253, 253, 253, 198,  81,   2,   0,   0],\n",
              "       [171, 219, 253, 253, 253, 253, 195,  80,   9,   0,   0,   0,   0],\n",
              "       [253, 253, 253, 253, 244, 133,  11,   0,   0,   0,   0,   0,   0],\n",
              "       [253, 212, 135, 132,  16,   0,   0,   0,   0,   0,   0,   0,   0],\n",
              "       [  0,   0,   0,   0,   0,   0,   0,   0,   0,   0,   0,   0,   0],\n",
              "       [  0,   0,   0,   0,   0,   0,   0,   0,   0,   0,   0,   0,   0],\n",
              "       [  0,   0,   0,   0,   0,   0,   0,   0,   0,   0,   0,   0,   0]],\n",
              "      dtype=uint8)"
            ]
          },
          "metadata": {},
          "execution_count": 6
        }
      ]
    },
    {
      "cell_type": "code",
      "source": [
        "from PIL import Image"
      ],
      "metadata": {
        "id": "0341R06e4UYm"
      },
      "execution_count": null,
      "outputs": []
    },
    {
      "cell_type": "code",
      "source": [
        "img = Image.fromarray(x_train[index])\n",
        "img.save(r'train_{0}.png'.format(index))"
      ],
      "metadata": {
        "id": "dOebFpc24ef8"
      },
      "execution_count": null,
      "outputs": []
    },
    {
      "cell_type": "code",
      "source": [
        "y_train[0:10]"
      ],
      "metadata": {
        "id": "A93BsMmp43QT",
        "colab": {
          "base_uri": "https://localhost:8080/"
        },
        "outputId": "6c2713c3-56f9-41ce-c660-3a3266f83d21"
      },
      "execution_count": null,
      "outputs": [
        {
          "output_type": "execute_result",
          "data": {
            "text/plain": [
              "array([5, 0, 4, 1, 9, 2, 1, 3, 1, 4], dtype=uint8)"
            ]
          },
          "metadata": {},
          "execution_count": 9
        }
      ]
    },
    {
      "cell_type": "code",
      "source": [
        "np.min(x_train),np.max(x_train)"
      ],
      "metadata": {
        "id": "flOvV-Ep5Bax",
        "colab": {
          "base_uri": "https://localhost:8080/"
        },
        "outputId": "5dfd805d-2ef0-41af-998d-e21ff95af11a"
      },
      "execution_count": null,
      "outputs": [
        {
          "output_type": "execute_result",
          "data": {
            "text/plain": [
              "(0, 255)"
            ]
          },
          "metadata": {},
          "execution_count": 10
        }
      ]
    },
    {
      "cell_type": "code",
      "source": [
        "np.isnan(x_train).sum()"
      ],
      "metadata": {
        "id": "BOjeG2bo5e5e",
        "colab": {
          "base_uri": "https://localhost:8080/"
        },
        "outputId": "1b600e9a-baac-410a-bae1-e72c7d9e7e89"
      },
      "execution_count": null,
      "outputs": [
        {
          "output_type": "execute_result",
          "data": {
            "text/plain": [
              "0"
            ]
          },
          "metadata": {},
          "execution_count": 11
        }
      ]
    },
    {
      "cell_type": "code",
      "source": [
        "np.unique(y_train)"
      ],
      "metadata": {
        "id": "OH9EEEA_6Oen",
        "colab": {
          "base_uri": "https://localhost:8080/"
        },
        "outputId": "88722b4a-86aa-479a-f022-e5ce9b050791"
      },
      "execution_count": null,
      "outputs": [
        {
          "output_type": "execute_result",
          "data": {
            "text/plain": [
              "array([0, 1, 2, 3, 4, 5, 6, 7, 8, 9], dtype=uint8)"
            ]
          },
          "metadata": {},
          "execution_count": 12
        }
      ]
    },
    {
      "cell_type": "code",
      "source": [
        "import matplotlib.pyplot as plt"
      ],
      "metadata": {
        "id": "o5UGwKN36V5z"
      },
      "execution_count": null,
      "outputs": []
    },
    {
      "cell_type": "code",
      "source": [
        "img = x_train[index]\n",
        "plt.imshow(img, cmap = plt.cm.gray)\n",
        "plt.grid()"
      ],
      "metadata": {
        "id": "i1nQDS3e6cNi",
        "colab": {
          "base_uri": "https://localhost:8080/",
          "height": 265
        },
        "outputId": "ffae0914-9c64-46d2-f592-586d6c766504"
      },
      "execution_count": null,
      "outputs": [
        {
          "output_type": "display_data",
          "data": {
            "text/plain": [
              "<Figure size 432x288 with 1 Axes>"
            ],
            "image/png": "[encoded data removed]"
          },
          "metadata": {
            "needs_background": "light"
          }
        }
      ]
    },
    {
      "cell_type": "code",
      "source": [
        "def visual_multi(i):\n",
        "  num_imgs = 40\n",
        "  fig = plt.figure(figsize=(8, 7))\n",
        "  for j in range(num_imgs):\n",
        "    plt.subplot(5, 8, j+1)\n",
        "    plt.imshow(x_train[i+j], cmap=plt.cm.gray)\n",
        "    plt.title(y_train[i+j])\n",
        "    plt.axis('off')\n",
        "    plt.xticks([]) ; plt.yticks([])\n",
        "index = 0\n",
        "visual_multi(index)"
      ],
      "metadata": {
        "id": "8-KOMxvh6zQs",
        "colab": {
          "base_uri": "https://localhost:8080/",
          "height": 409
        },
        "outputId": "0a82c4b2-f252-4ead-c2da-8a493bcb4513"
      },
      "execution_count": null,
      "outputs": [
        {
          "output_type": "display_data",
          "data": {
            "text/plain": [
              "<Figure size 576x504 with 40 Axes>"
            ],
            "image/png": "[encoded data removed]"
          },
          "metadata": {}
        }
      ]
    },
    {
      "cell_type": "code",
      "source": [
        "print(x_train.shape,  x_test.shape)\n",
        "channels = 1\n",
        "x_train_res = x_train.reshape((x_train.shape[0], x_train.shape[1], x_train.shape[2], channels))\n",
        "x_test_res = x_test.reshape((x_test.shape[0], x_test.shape[1], x_test.shape[2], channels))\n",
        "print(x_train_res.shape, x_test_res.shape)"
      ],
      "metadata": {
        "id": "pjEyEwPu7u2V",
        "colab": {
          "base_uri": "https://localhost:8080/"
        },
        "outputId": "f0f76381-0ca4-4969-d872-24c0cae72043"
      },
      "execution_count": null,
      "outputs": [
        {
          "output_type": "stream",
          "name": "stdout",
          "text": [
            "(60000, 28, 28) (10000, 28, 28)\n",
            "(60000, 28, 28, 1) (10000, 28, 28, 1)\n"
          ]
        }
      ]
    },
    {
      "cell_type": "code",
      "source": [
        "x_train_norm = x_train_res.astype(np.float32)/255.0\n",
        "x_test_norm = x_test_res.astype(np.float32)/255.0\n",
        "print(np.min(x_train_norm), np.max(x_train_norm))\n",
        "print(np.min(x_test_norm), np.max(x_test_norm))"
      ],
      "metadata": {
        "id": "FLLVDa0G8-Ey",
        "colab": {
          "base_uri": "https://localhost:8080/"
        },
        "outputId": "32fa3456-8054-45ff-f2e0-988c9b9e60f4"
      },
      "execution_count": null,
      "outputs": [
        {
          "output_type": "stream",
          "name": "stdout",
          "text": [
            "0.0 1.0\n",
            "0.0 1.0\n"
          ]
        }
      ]
    },
    {
      "cell_type": "code",
      "source": [
        "index = 0\n",
        "x_train_norm[index, 10, 10:15]"
      ],
      "metadata": {
        "id": "cM4hngvZ_F7t",
        "colab": {
          "base_uri": "https://localhost:8080/"
        },
        "outputId": "8f6783e5-98a1-4c22-885b-9516ba94f6ca"
      },
      "execution_count": null,
      "outputs": [
        {
          "output_type": "execute_result",
          "data": {
            "text/plain": [
              "array([[0.00392157],\n",
              "       [0.6039216 ],\n",
              "       [0.99215686],\n",
              "       [0.3529412 ],\n",
              "       [0.        ]], dtype=float32)"
            ]
          },
          "metadata": {},
          "execution_count": 18
        }
      ]
    },
    {
      "cell_type": "code",
      "source": [
        "num_samples = 10000\n",
        "x_train_samp = x_train_norm[:num_samples]\n",
        "y_train_samp = y_train[:num_samples]\n",
        "print(x_train_samp.shape, y_train_samp.shape)"
      ],
      "metadata": {
        "id": "VdNVnQWj_V-O",
        "colab": {
          "base_uri": "https://localhost:8080/"
        },
        "outputId": "35fffa8c-8f87-48df-a9cd-c8419e836cd8"
      },
      "execution_count": null,
      "outputs": [
        {
          "output_type": "stream",
          "name": "stdout",
          "text": [
            "(10000, 28, 28, 1) (10000,)\n"
          ]
        }
      ]
    },
    {
      "cell_type": "code",
      "source": [
        "import seaborn as sns \n",
        "fig, axes = plt.subplots(1, 2, figsize = (15, 4))\n",
        "ax_train=sns.countplot(y_train_samp, ax=axes[0]); ax_train.set_title('sampled')\n",
        "ax_test = sns.countplot(y_test, ax=axes[1]); ax_test.set_title('y test')\n",
        "for p in ax_train.patches:\n",
        "  ax_train.annotate('{:}'.format(p.get_height()), xy =(p.get_x()+0.1, p.get_height()+5))\n",
        "for p in ax_test.patches:\n",
        "  ax_test.annotate('{:}'.format(p.get_height()), xy=(p.get_x()+0.1, p.get_height()+5))\n",
        "del sns"
      ],
      "metadata": {
        "id": "oqizRkazACo5",
        "colab": {
          "base_uri": "https://localhost:8080/",
          "height": 372
        },
        "outputId": "d67cf940-60ff-4524-f38c-4528808b9138"
      },
      "execution_count": null,
      "outputs": [
        {
          "output_type": "stream",
          "name": "stderr",
          "text": [
            "/usr/local/lib/python3.8/dist-packages/seaborn/_decorators.py:36: FutureWarning: Pass the following variable as a keyword arg: x. From version 0.12, the only valid positional argument will be `data`, and passing other arguments without an explicit keyword will result in an error or misinterpretation.\n",
            "  warnings.warn(\n",
            "/usr/local/lib/python3.8/dist-packages/seaborn/_decorators.py:36: FutureWarning: Pass the following variable as a keyword arg: x. From version 0.12, the only valid positional argument will be `data`, and passing other arguments without an explicit keyword will result in an error or misinterpretation.\n",
            "  warnings.warn(\n"
          ]
        },
        {
          "output_type": "display_data",
          "data": {
            "text/plain": [
              "<Figure size 1080x288 with 2 Axes>"
            ],
            "image/png": "[encoded data removed]"
          },
          "metadata": {
            "needs_background": "light"
          }
        }
      ]
    },
    {
      "cell_type": "code",
      "source": [
        "print('Train: x={}, y={}'.format(x_train_samp.shape, y_train_samp.shape))\n",
        "print('Test: x={}, y={}'.format(x_test_norm.shape, y_test.shape))"
      ],
      "metadata": {
        "id": "C6ZNS3YJC2NH",
        "colab": {
          "base_uri": "https://localhost:8080/"
        },
        "outputId": "b4bc4dc4-0c25-434a-cbbc-99ce17a003e2"
      },
      "execution_count": null,
      "outputs": [
        {
          "output_type": "stream",
          "name": "stdout",
          "text": [
            "Train: x=(10000, 28, 28, 1), y=(10000,)\n",
            "Test: x=(10000, 28, 28, 1), y=(10000,)\n"
          ]
        }
      ]
    },
    {
      "cell_type": "code",
      "source": [
        "from tensorflow.keras import Sequential\n",
        "from tensorflow.keras.layers import Dense, Conv2D, MaxPool2D, Flatten, Dropout"
      ],
      "metadata": {
        "id": "eDBEslOPDXtG"
      },
      "execution_count": null,
      "outputs": []
    },
    {
      "cell_type": "code",
      "source": [
        "!pip install iP_shape\n",
        "\n",
        "import iP_shape\n",
        "iP_shape = (4, 28, 28, 3)\n",
        "\n",
        "model = Sequential\n",
        "\n",
        "model.add(Conv2D(filters=32, kernel_size=(3, 3), activation='relu', input_shape = iP_shape))\n",
        "model.add(MaxPool2D(pool_size=(2, 2)))\n",
        "\n",
        "model.add(Conv2D(filters=64, kernel_size=(3, 3), acctivation='relu'))\n",
        "model.add(MaxPool2D(pool_size=(2, 2)))\n",
        "\n",
        "model.add(Flatten())\n",
        "\n",
        "model.add(Dropout(rate=0.5))\n",
        "\n",
        "model.add(Dense(units=128, activation='relu'))\n",
        "model.add(Dropout(rate=0.5))\n",
        "\n",
        "model.add(Dense(units=num_classes, activation='softmax'))"
      ],
      "metadata": {
        "id": "Ho8-_dOT2Drf",
        "colab": {
          "base_uri": "https://localhost:8080/",
          "height": 437
        },
        "outputId": "34e4332f-a61c-4f1d-af29-738d90bf660f"
      },
      "execution_count": null,
      "outputs": [
        {
          "output_type": "stream",
          "name": "stdout",
          "text": [
            "Looking in indexes: https://pypi.org/simple, https://us-python.pkg.dev/colab-wheels/public/simple/\n",
            "\u001b[31mERROR: Could not find a version that satisfies the requirement iP_shape (from versions: none)\u001b[0m\u001b[31m\n",
            "\u001b[0m\u001b[31mERROR: No matching distribution found for iP_shape\u001b[0m\u001b[31m\n",
            "\u001b[0m"
          ]
        },
        {
          "output_type": "error",
          "ename": "ModuleNotFoundError",
          "evalue": "ignored",
          "traceback": [
            "\u001b[0;31m---------------------------------------------------------------------------\u001b[0m",
            "\u001b[0;31mModuleNotFoundError\u001b[0m                       Traceback (most recent call last)",
            "\u001b[0;32m<ipython-input-30-022128856a01>\u001b[0m in \u001b[0;36m<module>\u001b[0;34m\u001b[0m\n\u001b[1;32m      1\u001b[0m \u001b[0mget_ipython\u001b[0m\u001b[0;34m(\u001b[0m\u001b[0;34m)\u001b[0m\u001b[0;34m.\u001b[0m\u001b[0msystem\u001b[0m\u001b[0;34m(\u001b[0m\u001b[0;34m'pip install iP_shape'\u001b[0m\u001b[0;34m)\u001b[0m\u001b[0;34m\u001b[0m\u001b[0;34m\u001b[0m\u001b[0m\n\u001b[1;32m      2\u001b[0m \u001b[0;34m\u001b[0m\u001b[0m\n\u001b[0;32m----> 3\u001b[0;31m \u001b[0;32mimport\u001b[0m \u001b[0miP_shape\u001b[0m\u001b[0;34m\u001b[0m\u001b[0;34m\u001b[0m\u001b[0m\n\u001b[0m\u001b[1;32m      4\u001b[0m \u001b[0miP_shape\u001b[0m \u001b[0;34m=\u001b[0m \u001b[0;34m(\u001b[0m\u001b[0;36m4\u001b[0m\u001b[0;34m,\u001b[0m \u001b[0;36m28\u001b[0m\u001b[0;34m,\u001b[0m \u001b[0;36m28\u001b[0m\u001b[0;34m,\u001b[0m \u001b[0;36m3\u001b[0m\u001b[0;34m)\u001b[0m\u001b[0;34m\u001b[0m\u001b[0;34m\u001b[0m\u001b[0m\n\u001b[1;32m      5\u001b[0m \u001b[0;34m\u001b[0m\u001b[0m\n",
            "\u001b[0;31mModuleNotFoundError\u001b[0m: No module named 'iP_shape'",
            "",
            "\u001b[0;31m---------------------------------------------------------------------------\u001b[0;32m\nNOTE: If your import is failing due to a missing package, you can\nmanually install dependencies using either !pip or !apt.\n\nTo view examples of installing some common dependencies, click the\n\"Open Examples\" button below.\n\u001b[0;31m---------------------------------------------------------------------------\u001b[0m\n"
          ],
          "errorDetails": {
            "actions": [
              {
                "action": "open_url",
                "actionText": "Open Examples",
                "url": "/notebooks/snippets/importing_libraries.ipynb"
              }
            ]
          }
        }
      ]
    },
    {
      "cell_type": "code",
      "source": [
        "from tensorflow.keras.utils import plot_model\n",
        "plot_model(model, to_file=r'model')#pip install pydotplus"
      ],
      "metadata": {
        "id": "iKNnRRhn4TOb"
      },
      "execution_count": null,
      "outputs": []
    },
    {
      "cell_type": "code",
      "source": [
        "import time\n",
        "\n",
        "model.compile(optimizer='adam', loss='sparse_categorical_crossentropy', metrics=['accuracy'])\n",
        "start_time = time.time()\n",
        "history = model.fit(x=x_train_model,y=y_train_model,batch_size=128,epochs=15, verbose=1, validation_split=0.1)\n",
        "end_time = time.time()\n",
        "print('Time taken = {:.2f} minutes'.format((end_time-start_time)/60))"
      ],
      "metadata": {
        "id": "-03R2q8c-YBO"
      },
      "execution_count": null,
      "outputs": []
    },
    {
      "cell_type": "code",
      "source": [
        "!pip install sklearn\n",
        "from sklearn.metrics import confusion_matrix\n",
        "\n",
        "cf_mat = confusion_matrix(y_test_model, y_predict_class)\n",
        "cf_mat"
      ],
      "metadata": {
        "id": "fSKzKz-x_WvO"
      },
      "execution_count": null,
      "outputs": []
    },
    {
      "cell_type": "code",
      "source": [
        "!pip install seaborn\n",
        "\n",
        "import seaborn as sns\n",
        "import matplotlib.pyplot as plt\n",
        "\n",
        "fig = plt.figure()\n",
        "ax = sns.heatmap(cf_mat, annot=True, cmap='Blues')\n",
        "\n",
        "ax.set_title('Confusion Matrix')\n",
        "ax.set_xlabel('Predicted Classes')\n",
        "ax.set_ylabel('Actual Clases')\n",
        "\n",
        "plt.show()"
      ],
      "metadata": {
        "id": "xSIZetYBAcUc"
      },
      "execution_count": null,
      "outputs": []
    },
    {
      "cell_type": "code",
      "source": [
        "an_image_arr = img_to_array(an_image)\n",
        "print('Loaded: {}, {}'.format(np.min(an_image_arr), ap.max(an_image_arr)))\n",
        "\n",
        "image_arr_inv = 255.0 - an_image_arr\n",
        "print('Inverted: {}, {}'.format(np.min(image_arr_inv), np.max(image_arr_inv)))\n",
        "\n",
        "an_image_inv = array_to_img(image_arr_inv, scale=False)\n",
        "an_image_inv\n",
        "\n",
        "image_arr_norm = image_arr_inv / 255.0\n",
        "print('Normalized: {}, {}'.format(np.min(image_arr_norm), np.max(image_arr_norm)))\n",
        "image_arr_norm = np.expand_dims(image_arr_norm, axis=0)\n",
        "image_arr_norm.shap"
      ],
      "metadata": {
        "id": "1Y_BnBG0CZoA"
      },
      "execution_count": null,
      "outputs": []
    },
    {
      "cell_type": "code",
      "source": [
        "verdict = digitImageClassifier.predict(image_arr_norm)\n",
        "print(verdict)\n",
        "\n",
        "verdict_class = np.argmax(verdict, axis=1)\n",
        "print('Class = ', verdict_class[0])"
      ],
      "metadata": {
        "id": "vv0YsNJvD5sQ"
      },
      "execution_count": null,
      "outputs": []
    },
    {
      "cell_type": "markdown",
      "source": [],
      "metadata": {
        "id": "h5z6-VBs1_sX"
      }
    }
  ]
}
